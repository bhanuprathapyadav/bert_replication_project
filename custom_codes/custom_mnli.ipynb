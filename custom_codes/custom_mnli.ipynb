# Install required dependencies
!pip install transformers datasets torch --quiet

# Import required libraries
from transformers import BertTokenizer, BertForSequenceClassification
from datasets import Dataset
import torch
import json

# Load the custom sentiment dataset from a JSON file
with open('/datasets/mnli_like_sentiment_dataset.json', 'r') as f:
    custom_sentiment_data = json.load(f)

# Convert it to a dataset object
custom_sentiment_dataset = Dataset.from_dict({
    "premise": [item["premise"] for item in custom_sentiment_data],
    "hypothesis": [item["hypothesis"] for item in custom_sentiment_data],
    "label": [item["label"] for item in custom_sentiment_data]
})

# Load the fine-tuned BERT model and tokenizer for sentiment classification
model_name = "nlptown/bert-base-multilingual-uncased-sentiment"
model = BertForSequenceClassification.from_pretrained(model_name)
tokenizer = BertTokenizer.from_pretrained(model_name)

# Set the device (use GPU if available)
device = 'cuda' if torch.cuda.is_available() else 'cpu'
model.to(device)

# Function to predict sentiment
def predict_sentiment(example):
    # Combine premise and hypothesis into a single text input
    text_input = f"{example['premise']} {example['hypothesis']}"
    
    # Tokenize the input text
    inputs = tokenizer(text_input, return_tensors='pt', padding=True, truncation=True)
    input_ids = inputs['input_ids'].to(device)

    # Perform inference
    with torch.no_grad():
        outputs = model(input_ids)
        logits = outputs.logits

    # Get the predicted class
    predicted_class = torch.argmax(logits, dim=1).item()
    return predicted_class

# Randomly select an example from the custom sentiment dataset
random_example = custom_sentiment_dataset.shuffle(seed=42)[0]
premise = random_example['premise']
hypothesis = random_example['hypothesis']
label = random_example['label']

# Perform prediction
predicted_class = predict_sentiment(random_example)

# Output the text and predicted sentiment
print(f"Predicted class index: {predicted_class}")  # Debugging line to check predicted class index
sentiment_labels = ['very negative', 'negative', 'neutral', 'positive', 'very positive']  # Adjust based on the model's labels

# Check the predicted class index
if predicted_class >= len(sentiment_labels):
    print(f"Predicted class index {predicted_class} is out of bounds.")
else:
    predicted_sentiment = sentiment_labels[predicted_class]
    print(f"Premise: {premise}")
    print(f"Hypothesis: {hypothesis}")
    print(f"Predicted Sentiment: {predicted_sentiment} (Actual Label: {label})")

