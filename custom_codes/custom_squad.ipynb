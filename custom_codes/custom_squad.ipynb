# Install required dependencies
!pip install transformers datasets torch --quiet

# Import required libraries
import json
from transformers import BertTokenizer, BertForQuestionAnswering
from datasets import Dataset
import torch
import random  # Import random for selection

# Load the fine-tuned BERT model and tokenizer from Hugging Face
model_name = "deepset/bert-large-uncased-whole-word-masking-squad2"
model = BertForQuestionAnswering.from_pretrained(model_name)
tokenizer = BertTokenizer.from_pretrained(model_name)

# Load the custom dataset from a JSON file
with open("/content/qa_dataset.json") as f:
    custom_data = json.load(f)

# Extract paragraphs list from "data" field in custom_data
paragraphs = custom_data['data'][0]['paragraphs']

# Convert it to a dataset object
custom_dataset = Dataset.from_dict({
    "context": [item["context"] for item in paragraphs],
    "question": [item["question"] for item in paragraphs],
    "answers": [item["answers"] for item in paragraphs]
})

# Randomly select an example from the custom dataset
random_idx = random.randint(0, len(custom_dataset) - 1)  # Select random index
random_example = custom_dataset[random_idx]  # Select a random example
question = random_example['question']
context = random_example['context']

# Tokenize the input (question + context)
input_ids = tokenizer(question, context, return_tensors='pt').input_ids

# Perform inference (use GPU if available)
device = 'cuda' if torch.cuda.is_available() else 'cpu'
model.to(device)
input_ids = input_ids.to(device)

# Get model predictions
with torch.no_grad():
    outputs = model(input_ids)
    start_scores = outputs.start_logits
    end_scores = outputs.end_logits

# Get the most likely start and end positions of the answer
answer_start = torch.argmax(start_scores)
answer_end = torch.argmax(end_scores) + 1

# Decode the answer
answer = tokenizer.convert_tokens_to_string(tokenizer.convert_ids_to_tokens(input_ids[0][answer_start:answer_end]))

# Output the question and the predicted answer
print(f"Question: {question}")
print(f"Answer: {answer}")

