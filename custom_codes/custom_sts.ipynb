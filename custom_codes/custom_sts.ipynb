# Install required dependencies
!pip install transformers sentence-transformers torch --quiet

# Import required libraries
from sentence_transformers import SentenceTransformer, util
import json
import random

# Load the custom STS dataset
with open("/datasets/sts_b_like_dataset_50000.json", "r") as f:
    custom_sts_data = json.load(f)

# Load the sentence transformer model
model = SentenceTransformer('sentence-transformers/all-MiniLM-L6-v2')

# Define a function to compute similarity score between two sentences
def predict_similarity(sentence1, sentence2):
    # Encode the sentences to get their embeddings
    embeddings1 = model.encode(sentence1, convert_to_tensor=True)
    embeddings2 = model.encode(sentence2, convert_to_tensor=True)

    # Compute cosine similarity
    cosine_similarity = util.pytorch_cos_sim(embeddings1, embeddings2)
    
    # Scale the similarity score to match STS-B scoring (0-5)
    similarity_score = (cosine_similarity.item() + 1) / 2 * 5  # Scale from 0 to 5
    return similarity_score

# Select 5 random entries from the dataset
random_entries = random.sample(custom_sts_data, 5)

# Test the model with selected random examples
for entry in random_entries:
    sentence1 = entry['sentence1']
    sentence2 = entry['sentence2']
    true_score = entry['score']
    
    predicted_score = predict_similarity(sentence1, sentence2)
    
    print(f"Sentence 1: {sentence1}")
    print(f"Sentence 2: {sentence2}")
    print(f"True Similarity Score: {true_score}")
    print(f"Predicted Similarity Score: {predicted_score:.2f}\n")

