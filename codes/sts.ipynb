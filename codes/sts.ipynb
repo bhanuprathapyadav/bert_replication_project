# Install required dependencies
!pip install transformers datasets sentence-transformers torch --quiet

# Import required libraries
from sentence_transformers import SentenceTransformer, util
from datasets import load_dataset

# Load the STS-B dataset
sts_dataset = load_dataset("glue", "stsb")

# Load the sentence transformer model
model = SentenceTransformer('sentence-transformers/all-MiniLM-L6-v2')

# Define a function to compute similarity score between two sentences
def predict_similarity(sentence1, sentence2):
    # Encode the sentences to get their embeddings
    embeddings1 = model.encode(sentence1, convert_to_tensor=True)
    embeddings2 = model.encode(sentence2, convert_to_tensor=True)

    # Compute cosine similarity
    cosine_similarity = util.pytorch_cos_sim(embeddings1, embeddings2)
    
    # Scale the similarity score to match STS-B scoring (0-5)
    # Scaling to a range of 0-5, assuming cosine similarity ranges from -1 to 1
    similarity_score = (cosine_similarity.item() + 1) / 2 * 5  # Scale from 0 to 5
    return similarity_score

# Test the model with a few examples from the STS-B dataset
for i in range(5):  # Change this range for more examples
    example = sts_dataset['validation'][i]  # Access validation examples
    sentence1 = example['sentence1']
    sentence2 = example['sentence2']
    true_score = example['label']
    
    predicted_score = predict_similarity(sentence1, sentence2)
    
    print(f"Sentence 1: {sentence1}")
    print(f"Sentence 2: {sentence2}")
    print(f"True Similarity Score: {true_score}")
    print(f"Predicted Similarity Score: {predicted_score:.2f}\n")

